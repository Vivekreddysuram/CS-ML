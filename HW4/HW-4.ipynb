{
  "nbformat": 4,
  "nbformat_minor": 0,
  "metadata": {
    "colab": {
      "provenance": []
    },
    "kernelspec": {
      "name": "python3",
      "display_name": "Python 3"
    },
    "language_info": {
      "name": "python"
    }
  },
  "cells": [
    {
      "cell_type": "code",
      "execution_count": 3,
      "metadata": {
        "colab": {
          "base_uri": "https://localhost:8080/"
        },
        "id": "KcMZ4V61sKvz",
        "outputId": "2db6043c-cc33-45b4-98a4-cbb04e5f4a61"
      },
      "outputs": [
        {
          "output_type": "stream",
          "name": "stdout",
          "text": [
            "          Accuracy           F1 Score           Training Time          \n",
            "Dataset       Iris     MNIST     Iris     MNIST          Iris     MNIST\n",
            "Method                                                                 \n",
            "KernelPCA      1.0  0.921333      1.0  0.921079      0.204380  0.635451\n",
            "LDA            1.0  0.931333      1.0  0.931202      0.151579  0.247583\n",
            "PCA            1.0  0.952667      1.0  0.952614      0.150352  0.631832\n"
          ]
        }
      ],
      "source": [
        "import numpy as np\n",
        "import pandas as pd\n",
        "from time import perf_counter\n",
        "from sklearn.datasets import load_iris, fetch_openml\n",
        "from sklearn.model_selection import train_test_split\n",
        "from sklearn.decomposition import PCA, KernelPCA\n",
        "from sklearn.discriminant_analysis import LinearDiscriminantAnalysis as LinearDA\n",
        "from sklearn.svm import SVC\n",
        "from sklearn.ensemble import RandomForestClassifier\n",
        "from sklearn.metrics import accuracy_score, f1_score\n",
        "\n",
        "def get_datasets():\n",
        "    iris_data = load_iris()\n",
        "    X_iris, y_iris = iris_data.data, iris_data.target\n",
        "    mnist_data = fetch_openml('mnist_784', version=1, return_X_y=True, as_frame=False, parser='auto')\n",
        "    X_mnist_scaled, y_mnist = mnist_data[0] / 255.0, mnist_data[1]\n",
        "    X_mnist_small, _, y_mnist_small, _ = train_test_split(\n",
        "        X_mnist_scaled, y_mnist, train_size=5000, stratify=y_mnist, random_state=42\n",
        "    )\n",
        "    return {'Iris': (X_iris, y_iris), 'MNIST': (X_mnist_small, y_mnist_small)}\n",
        "\n",
        "def reduce_dimensions(X, y, method, name):\n",
        "    n_lda_components = min(len(np.unique(y)) - 1, X.shape[1])\n",
        "    reducers = {\n",
        "        'PCA': PCA(n_components=min(50, X.shape[1])),\n",
        "        'LDA': LinearDA(n_components=n_lda_components),\n",
        "        'KernelPCA': KernelPCA(n_components=min(50, X.shape[1]), kernel='rbf', gamma=0.05)\n",
        "    }\n",
        "    reducer = reducers.get(method)\n",
        "    if not reducer:\n",
        "        raise ValueError(f\"Dimensionality reduction method '{method}' is not supported.\")\n",
        "    return reducer.fit_transform(X, y) if method == 'LDA' else reducer.fit_transform(X)\n",
        "\n",
        "def assess_classifier(X, y, clf):\n",
        "    X_train, X_test, y_train, y_test = train_test_split(X, y, test_size=0.3, random_state=42)\n",
        "    start_time = perf_counter()\n",
        "    clf.fit(X_train, y_train)\n",
        "    y_pred = clf.predict(X_test)\n",
        "    end_time = perf_counter()\n",
        "    return {\n",
        "        'Accuracy': accuracy_score(y_test, y_pred),\n",
        "        'F1 Score': f1_score(y_test, y_pred, average='weighted'),\n",
        "        'Training Time': end_time - start_time\n",
        "    }\n",
        "\n",
        "def conduct_experiments():\n",
        "    datasets = get_datasets()\n",
        "    classifiers = {'Iris': RandomForestClassifier(random_state=42), 'MNIST': SVC(kernel='rbf')}\n",
        "    experiment_results = []\n",
        "\n",
        "    for name, (X, y) in datasets.items():\n",
        "        for method in ['PCA', 'LDA', 'KernelPCA']:\n",
        "            X_reduced = reduce_dimensions(X, y, method, name)\n",
        "            clf = classifiers[name]\n",
        "            performance = assess_classifier(X_reduced, y, clf)\n",
        "            performance.update({'Dataset': name, 'Method': method})\n",
        "            experiment_results.append(performance)\n",
        "\n",
        "    return pd.DataFrame(experiment_results)\n",
        "\n",
        "if __name__ == \"__main__\":\n",
        "    experiment_data = conduct_experiments()\n",
        "    print(experiment_data.pivot(index='Method', columns='Dataset', values=['Accuracy', 'F1 Score', 'Training Time']).to_string())\n"
      ]
    }
  ]
}